{
 "cells": [
  {
   "cell_type": "code",
   "execution_count": 1,
   "metadata": {
    "colab": {
     "base_uri": "https://localhost:8080/"
    },
    "id": "L4ULyW3Fw9tO",
    "outputId": "5f79476b-c0fc-4033-833c-29e8a1f16f0a"
   },
   "outputs": [
    {
     "name": "stdout",
     "output_type": "stream",
     "text": [
      "Mounted at /content/drive\n"
     ]
    }
   ],
   "source": [
    "# from google.colab import drive\n",
    "# drive.mount('/content/drive')"
   ]
  },
  {
   "cell_type": "code",
   "execution_count": 2,
   "metadata": {
    "id": "AvIaoF4hxn9H"
   },
   "outputs": [],
   "source": [
    "import numpy as np # linear algebra\n",
    "import pandas as pd # data processing, CSV file I/O (e.g. pd.read_csv)\n",
    "import tensorflow as tf\n",
    "from tensorflow import keras\n",
    "import matplotlib.pyplot as plt\n",
    "import seaborn as sns\n",
    "#from sklearn.model_selection import train_test_split\n",
    "from keras.layers import Conv2D, MaxPool2D, AveragePooling2D, BatchNormalization, MaxPooling2D, Activation, Flatten, Dense, Dropout, GlobalAveragePooling2D\n",
    "from keras.models import Sequential, Model\n",
    "from keras.utils import np_utils\n",
    "from sklearn.metrics import classification_report\n",
    "from imblearn.over_sampling import RandomOverSampler\n",
    "from keras.preprocessing import image\n",
    "import scipy\n",
    "import os\n",
    "import cv2\n"
   ]
  },
  {
   "cell_type": "code",
   "execution_count": 3,
   "metadata": {
    "id": "BVk5AnAjzA-a"
   },
   "outputs": [],
   "source": [
    "from sklearn.preprocessing import StandardScaler\n",
    "from sklearn.decomposition import PCA"
   ]
  },
  {
   "cell_type": "code",
   "execution_count": 4,
   "metadata": {
    "colab": {
     "base_uri": "https://localhost:8080/",
     "height": 1000
    },
    "id": "0SO7f7hK0Eoq",
    "outputId": "b64c4b53-e280-4bf8-d17f-7f66fab057b8"
   },
   "outputs": [
    {
     "data": {
      "text/plain": [
       "0        70 80 82 72 58 58 60 63 54 58 60 48 89 115 121...\n",
       "1        151 150 147 155 148 133 111 140 170 174 182 15...\n",
       "2        231 212 156 164 174 138 161 173 182 200 106 38...\n",
       "3        24 32 36 30 32 23 19 20 30 41 21 22 32 34 21 1...\n",
       "4        4 0 0 0 0 0 0 0 0 0 0 0 3 15 23 28 48 50 58 84...\n",
       "                               ...                        \n",
       "28704    84 85 85 85 85 85 85 85 86 86 86 87 86 86 91 9...\n",
       "28705    114 112 113 113 111 111 112 113 115 113 114 11...\n",
       "28706    74 81 87 89 95 100 98 93 105 120 127 133 146 1...\n",
       "28707    222 227 203 90 86 90 84 77 94 87 99 119 134 14...\n",
       "28708    195 199 205 206 205 203 206 209 208 210 212 21...\n",
       "Name: pixels, Length: 28709, dtype: object"
      ]
     },
     "metadata": {},
     "output_type": "display_data"
    },
    {
     "data": {
      "text/plain": [
       "0        0\n",
       "1        0\n",
       "2        2\n",
       "3        4\n",
       "4        6\n",
       "        ..\n",
       "28704    2\n",
       "28705    0\n",
       "28706    4\n",
       "28707    0\n",
       "28708    4\n",
       "Name: emotion, Length: 28709, dtype: int64"
      ]
     },
     "metadata": {},
     "output_type": "display_data"
    },
    {
     "data": {
      "text/plain": [
       "28709    254 254 254 254 254 249 255 160 2 58 53 70 77 ...\n",
       "28710    156 184 198 202 204 207 210 212 213 214 215 21...\n",
       "28711    69 118 61 60 96 121 103 87 103 88 70 90 115 12...\n",
       "28712    205 203 236 157 83 158 120 116 94 86 155 180 2...\n",
       "28713    87 79 74 66 74 96 77 80 80 84 83 89 102 91 84 ...\n",
       "                               ...                        \n",
       "32293    178 176 172 173 173 174 176 173 166 166 206 22...\n",
       "32294    25 34 42 44 42 47 57 59 59 58 54 51 50 56 63 6...\n",
       "32295    255 255 255 255 255 255 255 255 255 255 255 25...\n",
       "32296    33 25 31 36 36 42 69 103 132 163 175 183 187 1...\n",
       "32297    61 63 59 75 151 159 166 161 143 170 127 131 18...\n",
       "Name: pixels, Length: 3589, dtype: object"
      ]
     },
     "metadata": {},
     "output_type": "display_data"
    },
    {
     "data": {
      "text/plain": [
       "28709    0\n",
       "28710    1\n",
       "28711    4\n",
       "28712    6\n",
       "28713    3\n",
       "        ..\n",
       "32293    4\n",
       "32294    3\n",
       "32295    4\n",
       "32296    4\n",
       "32297    4\n",
       "Name: emotion, Length: 3589, dtype: int64"
      ]
     },
     "metadata": {},
     "output_type": "display_data"
    },
    {
     "data": {
      "text/plain": [
       "32298    170 118 101 88 88 75 78 82 66 74 68 59 63 64 6...\n",
       "32299    7 5 8 6 7 3 2 6 5 4 4 5 7 5 5 5 6 7 7 7 10 10 ...\n",
       "32300    232 240 241 239 237 235 246 117 24 24 22 13 12...\n",
       "32301    200 197 149 139 156 89 111 58 62 95 113 117 11...\n",
       "32302    40 28 33 56 45 33 31 78 152 194 200 186 196 20...\n",
       "                               ...                        \n",
       "35882    50 36 17 22 23 29 33 39 34 37 37 37 39 43 48 5...\n",
       "35883    178 174 172 173 181 188 191 194 196 199 200 20...\n",
       "35884    17 17 16 23 28 22 19 17 25 26 20 24 31 19 27 9...\n",
       "35885    30 28 28 29 31 30 42 68 79 81 77 67 67 71 63 6...\n",
       "35886    19 13 14 12 13 16 21 33 50 57 71 84 97 108 122...\n",
       "Name: pixels, Length: 3589, dtype: object"
      ]
     },
     "metadata": {},
     "output_type": "display_data"
    },
    {
     "data": {
      "text/plain": [
       "32298    0\n",
       "32299    5\n",
       "32300    6\n",
       "32301    4\n",
       "32302    2\n",
       "        ..\n",
       "35882    6\n",
       "35883    3\n",
       "35884    0\n",
       "35885    3\n",
       "35886    2\n",
       "Name: emotion, Length: 3589, dtype: int64"
      ]
     },
     "metadata": {},
     "output_type": "display_data"
    },
    {
     "name": "stdout",
     "output_type": "stream",
     "text": [
      "(50505, 1)   (50505,)\n",
      "object\n"
     ]
    }
   ],
   "source": [
    "\n",
    "data = pd.read_csv('/content/drive/MyDrive/MLSP/MLSP_Project/fer2013/fer2013.csv')\n",
    "\n",
    "x_data_train = data[data[\"Usage\"]==\"Training\"]['pixels']\n",
    "y_data_train = data[data[\"Usage\"]==\"Training\"]['emotion']\n",
    "#print(y_data_train.value_counts())\n",
    "x_data_val = data[data[\"Usage\"]==\"PublicTest\"]['pixels']\n",
    "y_data_val = data[data[\"Usage\"]==\"PublicTest\"]['emotion']\n",
    "#print(y_data_val.value_counts())\n",
    "x_data_test = data[data[\"Usage\"]==\"PrivateTest\"]['pixels']\n",
    "y_data_test = data[data[\"Usage\"]==\"PrivateTest\"]['emotion']\n",
    "#print(y_data_test.value_counts())\n",
    "# display(x_data_train)\n",
    "# display(y_data_train)\n",
    "# display(x_data_val)\n",
    "# display(y_data_val)\n",
    "# display(x_data_test)\n",
    "# display(y_data_test)\n",
    "\n",
    "oversampler = RandomOverSampler(sampling_strategy='auto')\n",
    "\n",
    "x_data_os_train, y_data_os_train = oversampler.fit_resample(x_data_train.values.reshape(-1,1), y_data_train)\n",
    "print(\"shape of data x and target y\", x_data_os_train.shape,\" \",y_data_os_train.shape)\n",
    "#print((x_data_os_train).dtype)\n"
   ]
  },
  {
   "cell_type": "code",
   "execution_count": 5,
   "metadata": {
    "colab": {
     "base_uri": "https://localhost:8080/",
     "height": 285
    },
    "id": "7BOExcNc0jtl",
    "outputId": "f8f7a770-8290-41b9-d184-329296663346"
   },
   "outputs": [
    {
     "data": {
      "image/png": "[encoded data removed]",
      "text/plain": [
       "<Figure size 432x288 with 1 Axes>"
      ]
     },
     "metadata": {},
     "output_type": "display_data"
    }
   ],
   "source": [
    "sns.set_theme(style=\"darkgrid\")\n",
    "ax = sns.countplot(x=\"emotion\",data=data)"
   ]
  },
  {
   "cell_type": "code",
   "execution_count": 6,
   "metadata": {
    "id": "bzaNer0q4_b3"
   },
   "outputs": [],
   "source": [
    "\n",
    "temp=[]\n",
    "for i in x_data_train.index:\n",
    "    temp.append(list(np.array(x_data_train[i].split(),dtype=np.float32)))\n",
    "x_data_train = np.array(temp).reshape(-1,48,48,1)\n",
    "\n",
    "temp=[]\n",
    "for i in x_data_test.index:\n",
    "    temp.append(list(np.array(x_data_test[i].split(),dtype=np.float32)))\n",
    "x_data_test = np.array(temp).reshape(-1,48,48,1)\n",
    "\n",
    "temp=[]\n",
    "for i in range(x_data_os_train.shape[0]):\n",
    "    temp.append(list(np.array(x_data_os_train[i][0].split(),dtype=np.float32)))\n",
    "x_data_os_train = np.array(temp).reshape(-1,48,48,1)\n",
    "\n",
    "temp=[]\n",
    "for i in x_data_val.index:\n",
    "    temp.append(list(np.array(x_data_val[i].split(),dtype=np.float32)))\n",
    "x_data_val = np.array(temp).reshape(-1,48,48,1)\n"
   ]
  },
  {
   "cell_type": "code",
   "execution_count": 7,
   "metadata": {
    "colab": {
     "base_uri": "https://localhost:8080/"
    },
    "id": "8a1g0DCi5Npx",
    "outputId": "5ce8a9f3-a463-4dd8-8260-52c4690773a3"
   },
   "outputs": [
    {
     "name": "stdout",
     "output_type": "stream",
     "text": [
      "(28709, 1)\n",
      "(3589, 1)\n",
      "(3589, 1)\n",
      "(50505, 1)\n"
     ]
    }
   ],
   "source": [
    "y_data_train = np.array(y_data_train)\n",
    "y_data_train = y_data_train.reshape(y_data_train.shape[0], 1)\n",
    "print(y_data_train.shape)\n",
    "y_data_test = np.array(y_data_test)\n",
    "y_data_test = y_data_test.reshape(y_data_test.shape[0], 1)\n",
    "print(y_data_test.shape)\n",
    "y_data_val = np.array(y_data_val)\n",
    "y_data_val = y_data_val.reshape(y_data_val.shape[0], 1)\n",
    "print(y_data_test.shape)\n",
    "y_data_os_train = np.array(y_data_os_train)\n",
    "y_data_os_train = y_data_os_train.reshape(y_data_os_train.shape[0], 1)\n",
    "print(y_data_os_train.shape)\n"
   ]
  },
  {
   "cell_type": "code",
   "execution_count": 8,
   "metadata": {
    "id": "5WnILFac5jUK"
   },
   "outputs": [],
   "source": [
    "\n",
    "OS = True\n",
    "if OS:\n",
    "    X_train = x_data_train\n",
    "    y_train = y_data_train\n",
    "    X_test = x_data_test\n",
    "    y_test = y_data_test\n",
    "    X_val = x_data_val\n",
    "    y_val = y_data_val\n",
    "else:\n",
    "    X_train = x_data_os_train\n",
    "    y_train = y_data_os_train\n",
    "    X_test = x_data_test\n",
    "    y_test = y_data_test\n",
    "    X_val = x_data_val\n",
    "    y_val = y_data_val\n"
   ]
  },
  {
   "cell_type": "code",
   "execution_count": 9,
   "metadata": {
    "id": "ybNJrtOm5rir"
   },
   "outputs": [],
   "source": [
    "y=y_train.reshape(28709,)"
   ]
  },
  {
   "cell_type": "code",
   "execution_count": 10,
   "metadata": {
    "colab": {
     "base_uri": "https://localhost:8080/",
     "height": 268
    },
    "id": "3gvU1zCJ53wj",
    "outputId": "0f9174ae-8fd1-4d94-cc98-d9db2bffa1fa"
   },
   "outputs": [
    {
     "data": {
      "image/png": "[encoded data removed]",
      "text/plain": [
       "<Figure size 432x288 with 1 Axes>"
      ]
     },
     "metadata": {},
     "output_type": "display_data"
    }
   ],
   "source": [
    "sns.set_theme(style=\"darkgrid\")\n",
    "ax = sns.countplot(x=y)"
   ]
  },
  {
   "cell_type": "code",
   "execution_count": 11,
   "metadata": {
    "colab": {
     "base_uri": "https://localhost:8080/"
    },
    "id": "JDENwxwz57gV",
    "outputId": "bb010d96-1e39-499b-f971-c7e39ee2e2ea"
   },
   "outputs": [
    {
     "data": {
      "text/plain": [
       "(28709, 48, 48, 1)"
      ]
     },
     "execution_count": 11,
     "metadata": {},
     "output_type": "execute_result"
    }
   ],
   "source": [
    "X_train.shape"
   ]
  },
  {
   "cell_type": "code",
   "execution_count": 12,
   "metadata": {
    "colab": {
     "base_uri": "https://localhost:8080/",
     "height": 287
    },
    "id": "8ekDL-9q60pI",
    "outputId": "1cc0b5f8-711a-4d09-ca13-cb38e6bd80af"
   },
   "outputs": [
    {
     "data": {
      "text/plain": [
       "<matplotlib.image.AxesImage at 0x7f41d9d8e590>"
      ]
     },
     "execution_count": 12,
     "metadata": {},
     "output_type": "execute_result"
    },
    {
     "data": {
      "image/png": "[encoded data removed]",
      "text/plain": [
       "<Figure size 432x288 with 1 Axes>"
      ]
     },
     "metadata": {},
     "output_type": "display_data"
    }
   ],
   "source": [
    "plt.imshow(X_train[0].reshape(48,48))"
   ]
  },
  {
   "cell_type": "code",
   "execution_count": 13,
   "metadata": {
    "id": "IzTTLj_b64SQ"
   },
   "outputs": [],
   "source": [
    "x_train=X_train.reshape(-1,2304)\n",
    "x_val=X_val.reshape(-1,2304)\n",
    "x_test=X_test.reshape(-1,2304)"
   ]
  },
  {
   "cell_type": "code",
   "execution_count": 14,
   "metadata": {
    "id": "tSFAcCDc78R9"
   },
   "outputs": [],
   "source": [
    "s=StandardScaler().fit(x_train)"
   ]
  },
  {
   "cell_type": "code",
   "execution_count": 17,
   "metadata": {
    "id": "FlSpdfRzKYSc"
   },
   "outputs": [],
   "source": [
    "temp_train=s.transform(x_train)\n",
    "temp_val=s.transform(x_val)\n",
    "temp_test=s.transform(x_test)"
   ]
  },
  {
   "cell_type": "code",
   "execution_count": 18,
   "metadata": {
    "id": "_5J64PX7IDsU"
   },
   "outputs": [],
   "source": [
    "from keras import regularizers"
   ]
  },
  {
   "cell_type": "code",
   "execution_count": 19,
   "metadata": {
    "id": "py_ens4PUnC_"
   },
   "outputs": [],
   "source": [
    "model = Sequential()\n",
    "\n",
    "model.add(Conv2D(32, (3,3),input_shape=(48,48,1),activation='relu',padding='same'))\n",
    "BatchNormalization(axis=3)\n",
    "\n",
    "model.add(Conv2D(32, (3,3), kernel_regularizer=regularizers.L2(0.0001), activation='relu'))\n",
    "BatchNormalization(axis=3)\n",
    "model.add(MaxPooling2D((2,2)))\n",
    "\n",
    "model.add(Conv2D(64, (3,3), activation='relu'))\n",
    "BatchNormalization(axis=3)\n",
    "\n",
    "model.add(Conv2D(64, (3,3), kernel_regularizer=regularizers.L2(0.0001), activation='relu'))\n",
    "BatchNormalization(axis=3)\n",
    "model.add(MaxPooling2D((2,2)))\n",
    "\n",
    "model.add(Conv2D(128, (3,3), activation='relu'))\n",
    "BatchNormalization(axis=3)\n",
    "model.add(MaxPooling2D((2,2)))\n",
    "model.add(GlobalAveragePooling2D())\n",
    "\n",
    "#model.add(Flatten())\n",
    "\n",
    "model.add(Dense(256, activation = 'relu'))  \n",
    "BatchNormalization()\n",
    "#model.add(Dropout(0.1))\n",
    "\n",
    "model.add(Dense(256, activation = 'relu'))\n",
    "BatchNormalization()\n",
    "model.add(Dropout(0.1))\n",
    "\n",
    "model.add(Dense(7, activation = 'softmax'))"
   ]
  },
  {
   "cell_type": "code",
   "execution_count": 20,
   "metadata": {
    "colab": {
     "base_uri": "https://localhost:8080/"
    },
    "id": "K_hIANgkW2DM",
    "outputId": "0111102b-8c40-424f-a8b8-d6f709fa39ae"
   },
   "outputs": [
    {
     "name": "stdout",
     "output_type": "stream",
     "text": [
      "Model: \"sequential\"\n",
      "_________________________________________________________________\n",
      " Layer (type)                Output Shape              Param #   \n",
      "=================================================================\n",
      " conv2d (Conv2D)             (None, 48, 48, 32)        320       \n",
      "                                                                 \n",
      " conv2d_1 (Conv2D)           (None, 46, 46, 32)        9248      \n",
      "                                                                 \n",
      " max_pooling2d (MaxPooling2D  (None, 23, 23, 32)       0         \n",
      " )                                                               \n",
      "                                                                 \n",
      " conv2d_2 (Conv2D)           (None, 21, 21, 64)        18496     \n",
      "                                                                 \n",
      " conv2d_3 (Conv2D)           (None, 19, 19, 64)        36928     \n",
      "                                                                 \n",
      " max_pooling2d_1 (MaxPooling  (None, 9, 9, 64)         0         \n",
      " 2D)                                                             \n",
      "                                                                 \n",
      " conv2d_4 (Conv2D)           (None, 7, 7, 128)         73856     \n",
      "                                                                 \n",
      " max_pooling2d_2 (MaxPooling  (None, 3, 3, 128)        0         \n",
      " 2D)                                                             \n",
      "                                                                 \n",
      " global_average_pooling2d (G  (None, 128)              0         \n",
      " lobalAveragePooling2D)                                          \n",
      "                                                                 \n",
      " dense (Dense)               (None, 256)               33024     \n",
      "                                                                 \n",
      " dense_1 (Dense)             (None, 256)               65792     \n",
      "                                                                 \n",
      " dropout (Dropout)           (None, 256)               0         \n",
      "                                                                 \n",
      " dense_2 (Dense)             (None, 7)                 1799      \n",
      "                                                                 \n",
      "=================================================================\n",
      "Total params: 239,463\n",
      "Trainable params: 239,463\n",
      "Non-trainable params: 0\n",
      "_________________________________________________________________\n"
     ]
    }
   ],
   "source": [
    "model.summary()"
   ]
  },
  {
   "cell_type": "code",
   "execution_count": 21,
   "metadata": {
    "id": "nXaowmAzE14L"
   },
   "outputs": [],
   "source": [
    "sgd = keras.optimizers.SGD(learning_rate=0.001,momentum=0.9,nesterov=True)\n",
    "model.compile(optimizer=sgd, loss='categorical_crossentropy', metrics=['accuracy'])"
   ]
  },
  {
   "cell_type": "code",
   "execution_count": 22,
   "metadata": {
    "colab": {
     "base_uri": "https://localhost:8080/"
    },
    "id": "8guUDtK4D_4L",
    "outputId": "6d90daaf-365a-4274-ae0a-e4aad93630b6"
   },
   "outputs": [
    {
     "data": {
      "text/plain": [
       "(28709, 7)"
      ]
     },
     "execution_count": 22,
     "metadata": {},
     "output_type": "execute_result"
    }
   ],
   "source": [
    "y_train = np_utils.to_categorical(y_train)\n",
    "print(\"shape of y_train is\",y_train.shape)\n",
    "y_test = np_utils.to_categorical(y_test)\n",
    "print(\"shape of y_test is\",y_test.shape)\n",
    "y_val = np_utils.to_categorical(y_val)\n",
    "print(\"shape of y_test is\",y_test.shape)"
   ]
  },
  {
   "cell_type": "code",
   "execution_count": null,
   "metadata": {},
   "outputs": [],
   "source": [
    "y_val[0]"
   ]
  },
  {
   "cell_type": "code",
   "execution_count": 26,
   "metadata": {
    "id": "MtydaIGiMN9h"
   },
   "outputs": [],
   "source": [
    "X_train=temp_train.reshape(-1,48,48,1)\n",
    "X_val=temp_val.reshape(-1,48,48,1)\n",
    "X_test=temp_test.reshape(-1,48,48,1)"
   ]
  },
  {
   "cell_type": "code",
   "execution_count": 28,
   "metadata": {
    "colab": {
     "base_uri": "https://localhost:8080/"
    },
    "id": "xofhimOoEoMY",
    "outputId": "c5364a01-cd7f-4112-89da-fbb23673ded1"
   },
   "outputs": [
    {
     "name": "stdout",
     "output_type": "stream",
     "text": [
      "Epoch 1/30\n",
      "898/898 [==============================] - 8s 9ms/step - loss: 0.9857 - accuracy: 0.6343 - val_loss: 1.3205 - val_accuracy: 0.5450 - lr: 0.0010\n",
      "Epoch 2/30\n",
      "898/898 [==============================] - 7s 8ms/step - loss: 0.9580 - accuracy: 0.6448 - val_loss: 1.3082 - val_accuracy: 0.5361 - lr: 0.0010\n",
      "Epoch 3/30\n",
      "898/898 [==============================] - 8s 8ms/step - loss: 0.9331 - accuracy: 0.6550 - val_loss: 1.4649 - val_accuracy: 0.5135 - lr: 0.0010\n",
      "Epoch 4/30\n",
      "898/898 [==============================] - 8s 8ms/step - loss: 0.9102 - accuracy: 0.6658 - val_loss: 1.2776 - val_accuracy: 0.5433 - lr: 0.0010\n",
      "Epoch 5/30\n",
      "898/898 [==============================] - 7s 8ms/step - loss: 0.8859 - accuracy: 0.6727 - val_loss: 1.3049 - val_accuracy: 0.5472 - lr: 0.0010\n",
      "Epoch 6/30\n",
      "898/898 [==============================] - 7s 8ms/step - loss: 0.8551 - accuracy: 0.6876 - val_loss: 1.3340 - val_accuracy: 0.5386 - lr: 0.0010\n",
      "Epoch 7/30\n",
      "898/898 [==============================] - 8s 8ms/step - loss: 0.8314 - accuracy: 0.6923 - val_loss: 1.2961 - val_accuracy: 0.5511 - lr: 0.0010\n",
      "Epoch 8/30\n",
      "898/898 [==============================] - 7s 8ms/step - loss: 0.7993 - accuracy: 0.7079 - val_loss: 1.4871 - val_accuracy: 0.5194 - lr: 0.0010\n",
      "Epoch 9/30\n",
      "898/898 [==============================] - 8s 8ms/step - loss: 0.7775 - accuracy: 0.7157 - val_loss: 1.4458 - val_accuracy: 0.5339 - lr: 0.0010\n",
      "Epoch 10/30\n",
      "898/898 [==============================] - 8s 9ms/step - loss: 0.6405 - accuracy: 0.7760 - val_loss: 1.3781 - val_accuracy: 0.5623 - lr: 1.0000e-04\n",
      "Epoch 11/30\n",
      "898/898 [==============================] - 7s 8ms/step - loss: 0.5942 - accuracy: 0.7961 - val_loss: 1.4092 - val_accuracy: 0.5617 - lr: 1.0000e-04\n",
      "Epoch 12/30\n",
      "898/898 [==============================] - 7s 8ms/step - loss: 0.5791 - accuracy: 0.7993 - val_loss: 1.4398 - val_accuracy: 0.5634 - lr: 1.0000e-04\n",
      "Epoch 13/30\n",
      "898/898 [==============================] - 7s 8ms/step - loss: 0.5664 - accuracy: 0.8037 - val_loss: 1.4600 - val_accuracy: 0.5581 - lr: 1.0000e-04\n",
      "Epoch 14/30\n",
      "898/898 [==============================] - 8s 8ms/step - loss: 0.5575 - accuracy: 0.8083 - val_loss: 1.4958 - val_accuracy: 0.5587 - lr: 1.0000e-04\n",
      "Epoch 15/30\n",
      "898/898 [==============================] - 8s 8ms/step - loss: 0.5308 - accuracy: 0.8187 - val_loss: 1.4801 - val_accuracy: 0.5626 - lr: 1.0000e-05\n",
      "Epoch 16/30\n",
      "898/898 [==============================] - 8s 9ms/step - loss: 0.5259 - accuracy: 0.8215 - val_loss: 1.4867 - val_accuracy: 0.5626 - lr: 1.0000e-05\n",
      "Epoch 17/30\n",
      "898/898 [==============================] - 7s 8ms/step - loss: 0.5261 - accuracy: 0.8208 - val_loss: 1.4893 - val_accuracy: 0.5617 - lr: 1.0000e-05\n"
     ]
    }
   ],
   "source": [
    "callback_list = [\n",
    "                 #keras.callbacks.ModelCheckpoint(\"fer2013/model_with_oversampling_20_04_2022_1145.h5\",monitor=\"val_accuracy\",save_best_only=True),\n",
    "                 keras.callbacks.EarlyStopping(monitor=\"val_accuracy\",patience=5,restore_best_weights=True),\n",
    "                 keras.callbacks.ReduceLROnPlateau(patience=5,fator=0.5)\n",
    "]\n",
    "\n",
    "history = model.fit(X_train, y_train, epochs = 50, validation_data=(X_val,y_val), callbacks=callback_list)"
   ]
  },
  {
   "cell_type": "code",
   "execution_count": 29,
   "metadata": {
    "colab": {
     "base_uri": "https://localhost:8080/"
    },
    "id": "pn6FbCVFFn_8",
    "outputId": "0a9b7ec1-443b-456f-8312-775c93ad1cab"
   },
   "outputs": [
    {
     "name": "stdout",
     "output_type": "stream",
     "text": [
      "113/113 [==============================] - 1s 4ms/step - loss: 1.3806 - accuracy: 0.5770\n",
      "Accuracy of our model on test data :  57.704097032547 %\n"
     ]
    }
   ],
   "source": [
    "print(\"Accuracy of our model on test data : \" , model.evaluate(X_test,y_test)[1]*100 , \"%\")"
   ]
  },
  {
   "cell_type": "code",
   "execution_count": 30,
   "metadata": {
    "colab": {
     "base_uri": "https://localhost:8080/",
     "height": 585
    },
    "id": "7DXijXXXFxBS",
    "outputId": "17af99af-465c-4bdd-8795-54521e52ef68"
   },
   "outputs": [
    {
     "data": {
      "image/png": "[encoded data removed]",
      "text/plain": [
       "<Figure size 432x288 with 1 Axes>"
      ]
     },
     "metadata": {},
     "output_type": "display_data"
    },
    {
     "data": {
      "image/png": "[encoded data removed]",
      "text/plain": [
       "<Figure size 432x288 with 1 Axes>"
      ]
     },
     "metadata": {},
     "output_type": "display_data"
    }
   ],
   "source": [
    "plt.plot(history.history['accuracy'])\n",
    "plt.plot(history.history['val_accuracy'])\n",
    "plt.title('model accuracy')\n",
    "plt.ylabel('accuracy')\n",
    "plt.xlabel('epoch')\n",
    "plt.legend(['train', 'test'], loc='upper left')\n",
    "plt.show()\n",
    "# summarize history for loss\n",
    "plt.plot(history.history['loss'])\n",
    "plt.plot(history.history['val_loss'])\n",
    "plt.title('model loss')\n",
    "plt.ylabel('loss')\n",
    "plt.xlabel('epoch')\n",
    "plt.legend(['train', 'test'], loc='upper left')\n",
    "plt.show()"
   ]
  },
  {
   "cell_type": "code",
   "execution_count": 31,
   "metadata": {
    "colab": {
     "base_uri": "https://localhost:8080/"
    },
    "id": "6wkmm1G2F5ry",
    "outputId": "19323b58-77db-4a9b-c228-d8516e9435e7"
   },
   "outputs": [
    {
     "name": "stdout",
     "output_type": "stream",
     "text": [
      "113/113 [==============================] - 0s 3ms/step\n",
      "              precision    recall  f1-score   support\n",
      "\n",
      "           0       0.52      0.47      0.49       491\n",
      "           1       0.65      0.27      0.38        55\n",
      "           2       0.41      0.40      0.41       528\n",
      "           3       0.75      0.79      0.77       879\n",
      "           4       0.40      0.53      0.45       594\n",
      "           5       0.76      0.71      0.73       416\n",
      "           6       0.61      0.49      0.55       626\n",
      "\n",
      "    accuracy                           0.58      3589\n",
      "   macro avg       0.59      0.52      0.54      3589\n",
      "weighted avg       0.59      0.58      0.58      3589\n",
      "\n"
     ]
    }
   ],
   "source": [
    "y_pred = model.predict(X_test)\n",
    "y_result = []\n",
    "\n",
    "for pred in y_pred:\n",
    "    y_result.append(np.argmax(pred))\n",
    "y_result[:10]\n",
    "\n",
    "y_actual = []\n",
    "\n",
    "for pred in y_test:\n",
    "    y_actual.append(np.argmax(pred))\n",
    "y_actual[:10]\n",
    "\n",
    "from sklearn.metrics import confusion_matrix, classification_report\n",
    "print(classification_report(y_actual, y_result))"
   ]
  },
  {
   "cell_type": "code",
   "execution_count": 32,
   "metadata": {
    "colab": {
     "base_uri": "https://localhost:8080/",
     "height": 465
    },
    "id": "ZARaP7KaF9bi",
    "outputId": "a589a563-d0f0-4175-da83-5dfc728fb476"
   },
   "outputs": [
    {
     "data": {
      "text/plain": [
       "Text(66.5, 0.5, 'Truth')"
      ]
     },
     "execution_count": 32,
     "metadata": {},
     "output_type": "execute_result"
    },
    {
     "data": {
      "image/png": "[encoded data removed]",
      "text/plain": [
       "<Figure size 720x504 with 2 Axes>"
      ]
     },
     "metadata": {},
     "output_type": "display_data"
    }
   ],
   "source": [
    "import seaborn as sn\n",
    "cm = tf.math.confusion_matrix(labels = y_actual, predictions = y_result)\n",
    "\n",
    "plt.figure(figsize = (10, 7))\n",
    "sn.heatmap(cm, annot = True, fmt = 'd')\n",
    "plt.xlabel('Predicted')\n",
    "plt.ylabel('Truth')"
   ]
  },
  {
   "cell_type": "code",
   "execution_count": 33,
   "metadata": {
    "id": "VbtTqfqj27LE"
   },
   "outputs": [],
   "source": [
    "fer_json = model.to_json()  \n",
    "with open(\"/content/drive/MyDrive/MLSP/MLSP_Project/fer2013/mymodel.json\", \"w\") as json_file:  \n",
    "    json_file.write(fer_json)  \n",
    "model.save(\"/content/drive/MyDrive/MLSP/MLSP_Project/fer2013/mymodel.h5\") "
   ]
  },
  {
   "cell_type": "code",
   "execution_count": 35,
   "metadata": {
    "id": "OgwGcWSJ3UWy"
   },
   "outputs": [],
   "source": [
    "model_new = keras.models.load_model(\"/content/drive/MyDrive/MLSP/MLSP_Project/fer2013/mymodel.h5\")\n",
    "\n",
    "model_feat = Model(inputs=model_new.input,outputs=model_new.get_layer('dense').output)\n",
    "\n",
    "feat_train = model_feat.predict(X_train)\n",
    "print(feat_train.shape)\n",
    "\n",
    "feat_test = model_feat.predict(X_test)\n",
    "print(feat_test.shape)"
   ]
  },
  {
   "cell_type": "code",
   "execution_count": 34,
   "metadata": {
    "colab": {
     "base_uri": "https://localhost:8080/"
    },
    "id": "vPIvM7dM3v7C",
    "outputId": "d43c32ff-a44c-4563-e5a0-dd17c8931a59"
   },
   "outputs": [
    {
     "name": "stdout",
     "output_type": "stream",
     "text": [
      "Fitting SVM...\n",
      "fitting done !!!\n"
     ]
    }
   ],
   "source": [
    "from sklearn.svm import SVC\n",
    "\n",
    "svm = SVC(kernel='rbf',C=0.5)\n",
    "\n",
    "print(\"Fitting SVM...\")\n",
    "\n",
    "svm.fit(feat_train,np.argmax(y_train,axis=1))\n",
    "\n",
    "print('fitting done !!!')"
   ]
  },
  {
   "cell_type": "code",
   "execution_count": 35,
   "metadata": {
    "colab": {
     "base_uri": "https://localhost:8080/"
    },
    "id": "fi0q-8l73yPm",
    "outputId": "8d8be5d0-e1cf-4d4a-e2ae-17a54ae4670d"
   },
   "outputs": [
    {
     "data": {
      "text/plain": [
       "0.6847678428367411"
      ]
     },
     "execution_count": 35,
     "metadata": {},
     "output_type": "execute_result"
    }
   ],
   "source": [
    "svm.score(feat_train,np.argmax(y_train,axis=1))"
   ]
  },
  {
   "cell_type": "code",
   "execution_count": 36,
   "metadata": {
    "colab": {
     "base_uri": "https://localhost:8080/"
    },
    "id": "yjPXHqFp33kO",
    "outputId": "00b769b8-5dd2-46b4-fc02-9bf33da72eff"
   },
   "outputs": [
    {
     "data": {
      "text/plain": [
       "0.5709111173028699"
      ]
     },
     "execution_count": 36,
     "metadata": {},
     "output_type": "execute_result"
    }
   ],
   "source": [
    "svm.score(feat_test,np.argmax(y_test,axis=1))"
   ]
  },
  {
   "cell_type": "code",
   "execution_count": 37,
   "metadata": {
    "id": "FMALVFGS37d6"
   },
   "outputs": [],
   "source": [
    "from xgboost import XGBClassifier"
   ]
  },
  {
   "cell_type": "code",
   "execution_count": 38,
   "metadata": {
    "id": "Ra6HBLQf3-kr"
   },
   "outputs": [],
   "source": [
    "xgb = XGBClassifier(learning_rate=0.1,max_depth=10,n_estimators=100)"
   ]
  },
  {
   "cell_type": "code",
   "execution_count": 39,
   "metadata": {
    "colab": {
     "base_uri": "https://localhost:8080/"
    },
    "id": "3QLIFfIm4CfF",
    "outputId": "341f3def-1dc7-452e-b4b6-9db7a0bc6477"
   },
   "outputs": [
    {
     "name": "stdout",
     "output_type": "stream",
     "text": [
      "fitting done !!!\n",
      "Train: 0.9985022118499425\n",
      "Test: 0.583170799665645\n"
     ]
    }
   ],
   "source": [
    "xgb.fit(feat_train,np.argmax(y_train,axis=1))\n",
    "print('fitting done !!!')\n",
    "print(\"Train:\",xgb.score(feat_train,np.argmax(y_train,axis=1)))\n",
    "print(\"Test:\",xgb.score(feat_test,np.argmax(y_test,axis=1)))"
   ]
  },
  {
   "cell_type": "code",
   "execution_count": 40,
   "metadata": {
    "colab": {
     "base_uri": "https://localhost:8080/"
    },
    "id": "BFBiA1wI4Hcc",
    "outputId": "26228a6a-167f-49c4-c99f-1a1250389af3"
   },
   "outputs": [
    {
     "name": "stdout",
     "output_type": "stream",
     "text": [
      "113/113 [==============================] - 1s 4ms/step - loss: 1.2227 - accuracy: 0.5433\n",
      "Accuracy of our model on validation data :  54.332685470581055 %\n"
     ]
    }
   ],
   "source": [
    "print(\"Accuracy of our model on validation data : \" , model_new.evaluate(X_test,y_test)[1]*100 , \"%\")"
   ]
  },
  {
   "cell_type": "code",
   "execution_count": 36,
   "metadata": {
    "colab": {
     "base_uri": "https://localhost:8080/"
    },
    "id": "wCSwr4PTSrMZ",
    "outputId": "0e843c49-d57e-4253-f259-ae81ce4b3579"
   },
   "outputs": [
    {
     "name": "stdout",
     "output_type": "stream",
     "text": [
      "113/113 [==============================] - 1s 3ms/step\n"
     ]
    }
   ],
   "source": [
    "model_feat_last = Model(inputs=model_new.input,outputs=model_new.get_layer('dense_2').output)  #probablity output of last layer\n",
    "feat_test_last = model_feat_last.predict(X_test)"
   ]
  },
  {
   "cell_type": "code",
   "execution_count": 38,
   "metadata": {
    "id": "y0rQQZEKbosp"
   },
   "outputs": [],
   "source": [
    "#softclass prediction\n",
    "pred_g=[] #will contain emotion label prediction which are garunteed by our threshold probablity\n",
    "index_g=[]  #will contain index of that samples \n",
    "\n",
    "pred_c=[]   ##will contain emotion label prediction which are confused by our model probablity less than threshold\n",
    "index_c=[]   #will contain index of that samples \n",
    "\n",
    "index_nan=[]\n",
    "\n",
    "for i in range(len(feat_test_last)):\n",
    "    o=feat_test_last[i]\n",
    "    if max(o)>0.55:\n",
    "        pred=np.argmax(o)\n",
    "        index_g.append(i)\n",
    "        pred_g.append(pred)\n",
    "    else:\n",
    "        if max(o)>0.35:\n",
    "            pred1=np.argmax(o);\n",
    "            o_1=np.delete(o,pred1)\n",
    "            max2=max(o_1)\n",
    "            pred2=np.where(o==max2)[0][0]\n",
    "            index_c.append(i)\n",
    "            pred_c.append([pred1,pred2])\n",
    "        else:\n",
    "            index_nan.append(i)"
   ]
  },
  {
   "cell_type": "code",
   "execution_count": 42,
   "metadata": {
    "id": "LvSi6G6XX28W"
   },
   "outputs": [],
   "source": [
    "t_sure=y_test[index_g]\n",
    "t_conf=y_test[index_c]\n",
    "t_nan=y_test[index_nan]"
   ]
  },
  {
   "cell_type": "code",
   "execution_count": 48,
   "metadata": {
    "colab": {
     "base_uri": "https://localhost:8080/"
    },
    "id": "6qskAK8LSx1X",
    "outputId": "206f1788-c362-4d2b-e1ef-03fcfb5d7fd8"
   },
   "outputs": [
    {
     "name": "stdout",
     "output_type": "stream",
     "text": [
      "              precision    recall  f1-score   support\n",
      "\n",
      "           0       0.62      0.53      0.57       330\n",
      "           1       0.69      0.30      0.42        30\n",
      "           2       0.50      0.41      0.45       359\n",
      "           3       0.80      0.85      0.83       770\n",
      "           4       0.43      0.57      0.49       392\n",
      "           5       0.80      0.81      0.81       349\n",
      "           6       0.66      0.58      0.62       437\n",
      "\n",
      "    accuracy                           0.66      2667\n",
      "   macro avg       0.64      0.58      0.60      2667\n",
      "weighted avg       0.66      0.66      0.65      2667\n",
      "\n"
     ]
    }
   ],
   "source": [
    "print(classification_report(np.argmax(t_sure,axis=1), pred_g))"
   ]
  },
  {
   "cell_type": "code",
   "execution_count": 49,
   "metadata": {
    "colab": {
     "base_uri": "https://localhost:8080/",
     "height": 465
    },
    "id": "NFGa5FJ0S7PX",
    "outputId": "faf1d4a7-8a09-44d1-cd07-df0c04af9534"
   },
   "outputs": [
    {
     "data": {
      "text/plain": [
       "Text(66.5, 0.5, 'Truth')"
      ]
     },
     "execution_count": 49,
     "metadata": {},
     "output_type": "execute_result"
    },
    {
     "data": {
      "image/png": "[encoded data removed]",
      "text/plain": [
       "<Figure size 720x504 with 2 Axes>"
      ]
     },
     "metadata": {},
     "output_type": "display_data"
    }
   ],
   "source": [
    "cm = tf.math.confusion_matrix(labels = np.argmax(t_sure,axis=1), predictions = pred_g)\n",
    "\n",
    "plt.figure(figsize = (10, 7))\n",
    "sns.heatmap(cm, annot = True, fmt = 'd')\n",
    "plt.xlabel('Predicted')\n",
    "plt.ylabel('Truth')"
   ]
  },
  {
   "cell_type": "code",
   "execution_count": 50,
   "metadata": {
    "id": "daHePdE-S_Q4"
   },
   "outputs": [],
   "source": [
    "def accuracy(pred,real):\n",
    "    acc=0\n",
    "    for i in range(len(real)):\n",
    "        o=real[i]\n",
    "        p=pred[i]\n",
    "        if (p==o).any():\n",
    "            acc+=1\n",
    "    return(acc/len(real))"
   ]
  },
  {
   "cell_type": "code",
   "execution_count": 51,
   "metadata": {
    "id": "vUXzGr_YTIKS"
   },
   "outputs": [],
   "source": [
    "score=accuracy(pred_c,np.argmax(t_conf,axis=1))"
   ]
  },
  {
   "cell_type": "code",
   "execution_count": 52,
   "metadata": {
    "colab": {
     "base_uri": "https://localhost:8080/"
    },
    "id": "oRg058KbbbIw",
    "outputId": "a5be8d07-97a4-4d3b-8644-5ad5a6aa151e"
   },
   "outputs": [
    {
     "data": {
      "text/plain": [
       "0.6193390452876377"
      ]
     },
     "execution_count": 52,
     "metadata": {},
     "output_type": "execute_result"
    }
   ],
   "source": [
    "score"
   ]
  },
  {
   "cell_type": "code",
   "execution_count": 53,
   "metadata": {
    "colab": {
     "base_uri": "https://localhost:8080/"
    },
    "id": "LmLuZP-STJZA",
    "outputId": "2efeaf92-d702-4b5c-f094-f97b39ab62e4"
   },
   "outputs": [
    {
     "name": "stdout",
     "output_type": "stream",
     "text": [
      "4/4 [==============================] - 0s 49ms/step - loss: 1.7912 - accuracy: 0.2762\n",
      "Accuracy of our model on data for which softclass predicts dont know :  27.619048953056335 %\n"
     ]
    }
   ],
   "source": [
    "print(\"Accuracy of our model on data for which softclass predicts dont know : \" , model_new.evaluate(X_test[index_nan],t_nan)[1]*100 , \"%\")"
   ]
  },
  {
   "cell_type": "code",
   "execution_count": null,
   "metadata": {
    "id": "ahFq9a2ybqCS"
   },
   "outputs": [],
   "source": []
  }
 ],
 "metadata": {
  "accelerator": "GPU",
  "colab": {
   "collapsed_sections": [],
   "provenance": []
  },
  "gpuClass": "standard",
  "kernelspec": {
   "display_name": "Python 3 (ipykernel)",
   "language": "python",
   "name": "python3"
  },
  "language_info": {
   "codemirror_mode": {
    "name": "ipython",
    "version": 3
   },
   "file_extension": ".py",
   "mimetype": "text/x-python",
   "name": "python",
   "nbconvert_exporter": "python",
   "pygments_lexer": "ipython3",
   "version": "3.9.13"
  }
 },
 "nbformat": 4,
 "nbformat_minor": 1
}
